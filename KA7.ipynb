{
  "nbformat": 4,
  "nbformat_minor": 0,
  "metadata": {
    "colab": {
      "name": "KA7.ipynb",
      "provenance": [],
      "collapsed_sections": [],
      "include_colab_link": true
    },
    "kernelspec": {
      "name": "python3",
      "display_name": "Python 3"
    }
  },
  "cells": [
    {
      "cell_type": "markdown",
      "metadata": {
        "id": "view-in-github",
        "colab_type": "text"
      },
      "source": [
        "<a href=\"https://colab.research.google.com/github/LiFeLeSS5858/KA1/blob/main/KA7.ipynb\" target=\"_parent\"><img src=\"https://colab.research.google.com/assets/colab-badge.svg\" alt=\"Open In Colab\"/></a>"
      ]
    },
    {
      "cell_type": "code",
      "metadata": {
        "id": "h_AVhgyUO99m"
      },
      "source": [
        "from IPython.display import display, Math\n",
        "import matplotlib\n",
        "import matplotlib.pyplot as plt"
      ],
      "execution_count": 182,
      "outputs": []
    },
    {
      "cell_type": "code",
      "metadata": {
        "id": "zosG35DmQCH1"
      },
      "source": [
        "def add(x, y):\n",
        "  return ['+', x, y]\n",
        "\n",
        "def mul(x, y):\n",
        "  return ['*', x, y]\n",
        "\n",
        "def div(x, y):\n",
        "  return [\"/\", x, y]\n",
        "\n",
        "def sub(x, y):\n",
        "  return [\"-\", x, y]\n",
        "\n",
        "def pow(x, y):\n",
        "  return [\"^\", x, y]\n",
        "\n",
        "def neg(x):\n",
        "  return [\"--\", x]\n",
        "\n",
        "def eq(x, y):\n",
        "  return [\"=\", x, y]\n"
      ],
      "execution_count": 183,
      "outputs": []
    },
    {
      "cell_type": "code",
      "metadata": {
        "id": "moW7Kq80s36H"
      },
      "source": [
        "def fsqrt(x):\n",
        "  return ['sqrt', x]\n",
        "\n",
        "def fsin(x):\n",
        "  return ['sin', x]\n",
        "\n",
        "def fcos(x):\n",
        "  return ['cos', x]\n",
        "\n",
        "def fln(x):\n",
        "  return ['ln', x]"
      ],
      "execution_count": 184,
      "outputs": []
    },
    {
      "cell_type": "code",
      "metadata": {
        "id": "ScEmgQIvu5kn"
      },
      "source": [
        "def check(x):\n",
        "  if isinstance(x, Expression):\n",
        "    return x\n",
        "  return Expression(x)\n",
        "\n",
        "class Expression:\n",
        "  def __init__(self, f):\n",
        "    self.f = f\n",
        "  def __add__(self, x):\n",
        "    x = check(x)\n",
        "    return Expression(add(self.f, x.f))\n",
        "  def __sub__(self, x):\n",
        "    x = check(x)\n",
        "    return Expression(sub(self.f, x.f))\n",
        "  def __mul__(self, x):\n",
        "    x = check(x)\n",
        "    return Expression(mul(self.f, x.f))\n",
        "  def __truediv__(self, x):\n",
        "    x = check(x)\n",
        "    return Expression(div(self.f, x.f))\n",
        "  def __pow__(self, x):\n",
        "    x = check(x)\n",
        "    return Expression(pow(self.f, x.f))\n",
        "  def __radd__(self, x):\n",
        "    x = check(x)\n",
        "    return Expression(add(x.f, self.f))\n",
        "  def __rsub__(self, x):\n",
        "    x = check(x)\n",
        "    return Expression(sub(x.f, self.f))\n",
        "  def __rmul__(self, x):\n",
        "    x = check(x)\n",
        "    return Expression(mul(x.f, self.f))\n",
        "  def __rtruediv__(self, x):\n",
        "    x = check(x)\n",
        "    return Expression(div(x.f, self.f))\n",
        "  def __rpow__(self, x):\n",
        "    x = check(x)\n",
        "    return Expression(pow(x.f, self.f))\n",
        "  def __neg__(self):\n",
        "    return Expression(neg(self.f))\n",
        "  def subs(self, var, val):\n",
        "    return Expression(substitute(self.f, var, val))\n",
        "  def evalf(self):\n",
        "    return evaluate(self.f)\n",
        "  def __str__(self):\n",
        "    return expr2latex(self.f)\n",
        "  def show(self):\n",
        "    display(Math(expr2latex(self.f)))\n",
        "  def diff(self, var):\n",
        "    var = check(var).f\n",
        "    return Expression(differentiate(self.f, var))\n",
        "  def simp(self):\n",
        "    return Expression(simplify(self.f))\n",
        "  def expn(self):\n",
        "    return Expression(expand(self.f))\n",
        "  def intg(self, var):\n",
        "    var = check(var).f\n",
        "    return Expression(integrate(self.f, var))\n",
        "  def __eq__(self, x):\n",
        "    x = check(x)\n",
        "    return Expression(eq(self.f, x.f))\n",
        "  def solve(self, var):\n",
        "    var = check(var).f\n",
        "    return Expression(solver(self.f, var))\n",
        "\n",
        "  "
      ],
      "execution_count": 185,
      "outputs": []
    },
    {
      "cell_type": "code",
      "metadata": {
        "id": "AiEkED_h0ekb"
      },
      "source": [
        "def sqrt(x):\n",
        "  x = check(x)\n",
        "  t = x.f\n",
        "  r = fsqrt(t)\n",
        "  return Expression(r)\n",
        "\n",
        "def sin(x):\n",
        "  return Expression(fsin(check(x).f))\n",
        "\n",
        "def cos(x):\n",
        "  return Expression(fcos(check(x).f))\n",
        "\n",
        "def ln(x):\n",
        "  return Expression(fln(check(x).f))\n"
      ],
      "execution_count": 186,
      "outputs": []
    },
    {
      "cell_type": "code",
      "metadata": {
        "id": "Pu_q-3jQ188A"
      },
      "source": [
        "def substitute(f, var, val):\n",
        "  var = check(var).f\n",
        "  val = check(val).f\n",
        "  if f == var:\n",
        "    return val\n",
        "  elif isinstance(f, list):\n",
        "    y = [f[0]]\n",
        "    for i in range(1, len(f)):\n",
        "      t = substitute(f[i], var, val)\n",
        "      y.append(t)\n",
        "    return y\n",
        "  else:\n",
        "    return f\n"
      ],
      "execution_count": 187,
      "outputs": []
    },
    {
      "cell_type": "code",
      "metadata": {
        "id": "F8nvZMxr5dHA"
      },
      "source": [
        "import math\n",
        "\n",
        "def evaluate(f):\n",
        "  if isinstance(f, (int, float)):\n",
        "    return f\n",
        "  elif isinstance(f, list):\n",
        "    if f[0] == \"+\": \n",
        "      return evaluate(f[1]) + evaluate(f[2])\n",
        "    elif f[0] == \"*\":\n",
        "      return evaluate(f[1]) * evaluate(f[2])\n",
        "    elif f[0] == \"-\": \n",
        "      return evaluate(f[1]) - evaluate(f[2])\n",
        "    elif f[0] == \"/\":\n",
        "      return evaluate(f[1]) / evaluate(f[2])\n",
        "    elif f[0] == \"sqrt\":\n",
        "      return math.sqrt(evaluate(f[1]))\n",
        "    elif f[0] == \"sin\":\n",
        "      return math.sin(evaluate(f[1]))\n",
        "    elif f[0] == \"cos\":\n",
        "      return math.cos(evaluate(f[1]))\n",
        "  return None\n",
        "  "
      ],
      "execution_count": 188,
      "outputs": []
    },
    {
      "cell_type": "code",
      "metadata": {
        "id": "Sin0ZOti8cfQ"
      },
      "source": [
        "def plot(expr, var, a, b, n):\n",
        "  dx = (b - a) / n\n",
        "  X, Y = [], []\n",
        "  for i in range(n + 1):\n",
        "    x = a + dx * i\n",
        "    y = expr.subs(var, x).evalf()\n",
        "    X.append(x)\n",
        "    Y.append(y)\n",
        "\n",
        "  fig, ax = plt.subplots(figsize=(12, 9))\n",
        "  ax.plot(X, Y, color=\"red\", lw=5)\n",
        "  plt.show()\n"
      ],
      "execution_count": 189,
      "outputs": []
    },
    {
      "cell_type": "code",
      "metadata": {
        "id": "eTdsfWG47Xa-"
      },
      "source": [
        "def symbols(vars):\n",
        "  return map(Expression, vars.split())\n",
        "\n",
        "x, y = symbols(\"x y\")  "
      ],
      "execution_count": 190,
      "outputs": []
    },
    {
      "cell_type": "code",
      "metadata": {
        "id": "Ub2hnqYW8b0T"
      },
      "source": [
        "def expr2latex(x):\n",
        "  if isinstance(x, (int, float)):\n",
        "    return str(x)\n",
        "  if isinstance(x, str):\n",
        "    return x\n",
        "  if isinstance(x, list):\n",
        "    if x[0] == \"+\":\n",
        "      return expr2latex(x[1]) + \"+\" + expr2latex(x[2])\n",
        "    if x[0] == \"-\":\n",
        "      return expr2latex(x[1]) + \"-\" + expr2latex(x[2])\n",
        "    if x[0] == \"*\":\n",
        "      left = expr2latex(x[1])\n",
        "      if isinstance(x[1], list) and x[1][0] == \"+\":\n",
        "        left = \"\\\\left(\" + left + \"\\\\right)\"\n",
        "      right = expr2latex(x[2])\n",
        "      if isinstance(x[2], list) and x[2][0] == \"+\":\n",
        "        right = \"\\\\left(\" + right + \"\\\\right)\"\n",
        "      return left + \"\\\\cdot \" + right\n",
        "    if x[0] == \"/\":\n",
        "      return \"\\\\dfrac{\" + expr2latex(x[1]) + \"}{\" + expr2latex(x[2]) + \"}\"\n",
        "    if x[0] == \"^\":\n",
        "      left = expr2latex(x[1])\n",
        "      if isinstance(x[1], list):\n",
        "        left = \"\\\\left(\" + left + \"\\\\right)\"\n",
        "      right = expr2latex(x[2])\n",
        "      return \"{\" + left + \"}^{\" + right + \"}\"\n",
        "    if x[0] == \"--\":\n",
        "      a = expr2latex(x[1])\n",
        "      if isinstance(x[1], list):\n",
        "        a = \"\\\\left(\" + a + \"\\\\right)\"\n",
        "      return \"-{\" + a + \"}\"\n",
        "    if x[0] == \"sqrt\":\n",
        "      a = expr2latex(x[1])\n",
        "      return \"\\\\sqrt{\" + a + \"}\"\n",
        "    if x[0] == \"sin\":\n",
        "      a = expr2latex(x[1])\n",
        "      if isinstance(x[1], list):\n",
        "        a = \"\\\\left(\" + a + \"\\\\right)\"\n",
        "      return \"\\\\sin{\" + a + \"}\"\n",
        "    if x[0] == \"cos\":\n",
        "      a = expr2latex(x[1])\n",
        "      if isinstance(x[1], list):\n",
        "        a = \"\\\\left(\" + a + \"\\\\right)\"\n",
        "      return \"\\\\cos{\" + a + \"}\"\n",
        "    if x[0] == \"ln\":\n",
        "      a = expr2latex(x[1])\n",
        "      if isinstance(x[1], list):\n",
        "        a = \"\\\\left(\" + a + \"\\\\right)\"\n",
        "      return \"\\\\ln{\" + a + \"}\"\n",
        "    if x[0] == \"int\":\n",
        "      a = expr2latex(x[1])\n",
        "      if isinstance(x[1], list) and x[1][0] in \"+-\":\n",
        "        a = \"\\\\left(\" + a + \"\\\\right)\"\n",
        "      return \"\\\\int{\" + a + \"}d\" + x[2]\n",
        "    if x[0] == \"=\":\n",
        "      return expr2latex(x[1]) + \"=\" + expr2latex(x[2])\n"
      ],
      "execution_count": 191,
      "outputs": []
    },
    {
      "cell_type": "code",
      "metadata": {
        "id": "IZITbHnJ3cBO"
      },
      "source": [
        "def differentiate(f, x):\n",
        "  if isinstance(f, int):\n",
        "    return 0\n",
        "  if f == x:\n",
        "    return 1\n",
        "  if isinstance(f, str):\n",
        "    return 0\n",
        "  if isinstance(f, list):\n",
        "    if f[0] == \"+\":\n",
        "      u, v = f[1], f[2]\n",
        "      u1, v1 = differentiate(u, x), differentiate(v, x)\n",
        "      return add(u1, v1)\n",
        "    if f[0] == \"-\":\n",
        "      u, v = f[1], f[2]\n",
        "      u1, v1 = differentiate(u, x), differentiate(v, x)\n",
        "      return sub(u1, v1)      \n",
        "    if f[0] == \"*\":\n",
        "      u, v = f[1], f[2]\n",
        "      u1, v1 = differentiate(u, x), differentiate(v, x)\n",
        "      return add(mul(u1, v), mul(u, v1))   \n",
        "    if f[0] == \"/\":\n",
        "      u, v = f[1], f[2]\n",
        "      u1, v1 = differentiate(u, x), differentiate(v, x)\n",
        "      return div(sub(mul(u1, v), mul(u, v1)), pow(v, 2))   \n",
        "    if f[0] == \"^\":\n",
        "      u, v = f[1], f[2]\n",
        "      u1, v1 = differentiate(u, x), differentiate(v, x)\n",
        "      p1, p2 = pow(u, v), pow(u, sub(v, 1))\n",
        "      s1 = mul(p1, mul(v1, fln(u)))\n",
        "      s2 = mul(v, mul(p2, u1))\n",
        "      return add(s1, s2) \n",
        "    if f[0] == \"--\":\n",
        "      u = f[1]\n",
        "      u1 = differentiate(u, x)\n",
        "      return neg(u1)\n",
        "    if f[0] == \"ln\":\n",
        "      u = f[1]\n",
        "      u1 = differentiate(u, x)\n",
        "      return div(u1, u)\n",
        "    if f[0] == \"sin\":\n",
        "      u = f[1]\n",
        "      u1 = differentiate(u, x)\n",
        "      return mul(fcos(u), u1)\n",
        "    if f[0] == \"cos\":\n",
        "      u = f[1]\n",
        "      u1 = differentiate(u, x)\n",
        "      return mul(neg(fsin(u)), u1)\n",
        "    if f[0] == \"sqrt\":\n",
        "      u = f[1]\n",
        "      u1 = differentiate(u, x)\n",
        "      return div(u1, mul(2, fsqrt(u)))\n",
        "      "
      ],
      "execution_count": 192,
      "outputs": []
    },
    {
      "cell_type": "code",
      "metadata": {
        "id": "IuMa61nr33no"
      },
      "source": [
        "def simplify(f):\n",
        "  if isinstance(f, list):\n",
        "    r = [f[0]]\n",
        "    for x in f[1:]:\n",
        "      r.append(simplify(x))\n",
        "    if r[0] == \"+\":\n",
        "      if isinstance(r[1], int) and isinstance(r[2], int):\n",
        "        return r[1] + r[2] \n",
        "      if r[1] == 0: \n",
        "        return r[2]\n",
        "      if r[2] == 0:\n",
        "        return r[1]\n",
        "      if r[1] == r[2]:\n",
        "        return mul(2, r[1])\n",
        "      if isinstance(r[2], list) and r[2][0] == \"--\": # unary minus\n",
        "        return simplify(sub(r[1], r[2][1]))\n",
        "    if r[0] == \"-\":\n",
        "      if isinstance(r[1], int) and isinstance(r[2], int):\n",
        "        return r[1] - r[2]\n",
        "      if r[1] == 0: \n",
        "        return neg(r[2])\n",
        "      if r[2] == 0:\n",
        "        return r[1]\n",
        "      if r[1] == r[2]:\n",
        "        return 0\n",
        "      if isinstance(r[2], list) and r[2][0] == \"--\": # unary minus\n",
        "        return simplify(add(r[1], r[2][1]))\n",
        "    if r[0] == \"*\":\n",
        "      if isinstance(r[1], int) and isinstance(r[2], int):\n",
        "        return r[1] * r[2] \n",
        "      if r[1] == 0 or r[2] == 0: \n",
        "        return 0\n",
        "      if r[1] == 1:\n",
        "        return r[2]\n",
        "      if r[2] == 1:\n",
        "        return r[1]\n",
        "      if r[1] == r[2]:\n",
        "        return pow(r[1], 2)\n",
        "    if r[0] == \"^\":\n",
        "      if isinstance(r[1], int) and isinstance(r[2], int) and r[2] > 0:\n",
        "        return r[1] ** r[2] \n",
        "      if r[2] == 1: \n",
        "        return r[1]\n",
        "    if r[0] == \"sqrt\":\n",
        "      if isinstance(r[1], int):\n",
        "        a = int(math.sqrt(r[1]))\n",
        "        if a * a == r[1]:\n",
        "          return a\n",
        "        return r \n",
        "    return r\n",
        "  return f "
      ],
      "execution_count": 193,
      "outputs": []
    },
    {
      "cell_type": "code",
      "metadata": {
        "id": "ikhg5DsiDLu2"
      },
      "source": [
        "def expand(f):\n",
        "  if isinstance(f, list):\n",
        "    r = [f[0]]\n",
        "    for x in f[1:]:\n",
        "      r.append(expand(x))\n",
        "    if r[0] == \"*\":\n",
        "      if isinstance(r[1], list) and r[1][0] == \"+\":\n",
        "        a = expand(mul(r[1][1], r[2]))\n",
        "        b = expand(mul(r[1][2], r[2]))\n",
        "        return add(a, b)\n",
        "      if isinstance(r[2], list) and r[2][0] == \"+\":\n",
        "        a = expand(mul(r[1], r[2][1]))\n",
        "        b = expand(mul(r[1], r[2][2]))\n",
        "        return add(a, b)\n",
        "    if r[0] == \"^\":\n",
        "      if isinstance(r[1], list) and r[1][0] == \"+\" and r[2] == 2:\n",
        "        a = pow(r[1][1], 2)\n",
        "        b = mul(2, mul(r[1][1], r[1][2]))\n",
        "        c = pow(r[1][2], 2)\n",
        "        return add(a, add(b, c))\n",
        "    return r\n",
        "  return f\n"
      ],
      "execution_count": 194,
      "outputs": []
    },
    {
      "cell_type": "code",
      "metadata": {
        "id": "-DXupLBJ4fxF"
      },
      "source": [
        "def integral(f, x):\n",
        "  return [\"int\", f, x]\n",
        "\n",
        "def contains(f, x):\n",
        "  if f == x:\n",
        "    return True\n",
        "  if isinstance(f, (int, str)):\n",
        "    return False\n",
        "  if isinstance(f, list):\n",
        "    for a in f:\n",
        "      if contains(a, x):\n",
        "        return True\n",
        "  return False\n",
        "\n",
        "def integrate(f, x):\n",
        "  if not contains(f, x):\n",
        "    return mul(f, x)\n",
        "  if f == x:\n",
        "    return mul(div(1, 2), pow(x, 2))\n",
        "  if isinstance(f, list):\n",
        "    if f[0] == \"cos\" and f[1] == x:\n",
        "      return fsin(x)\n",
        "    if f[0] == \"sin\" and f[1] == x:\n",
        "      return neg(fcos(x))\n",
        "    if f[0] == \"sqrt\" and f[1] == x:\n",
        "      return mul(div(2, 3), mul(x, fsqrt(x)))\n",
        "    if f[0] == \"^\" and f[1] == x and not contains(f[2], x):\n",
        "      if f[2] == -1:\n",
        "        return fln(x)\n",
        "      else:\n",
        "        return mul(div(1, add(f[2], 1)), pow(x, add(f[2], 1))) \n",
        "    if f[0] == \"^\" and f[2] == x and not contains(f[1], x):\n",
        "      return mul(div(1, fln(f[1])), f)\n",
        "    if f[0] in \"+-\":\n",
        "      a = integrate(f[1], x)\n",
        "      b = integrate(f[2], x)\n",
        "      return [f[0], a, b]\n",
        "    if f[0] == \"*\" and not contains(f[1], x):\n",
        "      a = integrate(f[2], x)\n",
        "      return mul(f[1], a)\n",
        "    if f[0] == \"*\" and not contains(f[2], x):\n",
        "      a = integrate(f[1], x)\n",
        "      return mul(f[2], a)\n",
        "    if f[0] == \"/\" and not contains(f[2], x):\n",
        "      a = integrate(f[1], x)\n",
        "      return mul(div(1, f[2]), a)\n",
        "    if f[0] == \"*\" and f[1] == x:\n",
        "      t = x + \"t\"\n",
        "      g = substitute(f[2], pow(x, 2), t)\n",
        "      #Expression(g).show()\n",
        "      if not contains(g, x):\n",
        "        G = integrate(g, t)\n",
        "        if not contains(G, \"int\"): \n",
        "          F = substitute(G, t, pow(x, 2))\n",
        "          return mul(div(1, 2), F)\n",
        "\n",
        "  return integral(f, x)"
      ],
      "execution_count": 195,
      "outputs": []
    },
    {
      "cell_type": "code",
      "metadata": {
        "colab": {
          "base_uri": "https://localhost:8080/",
          "height": 55
        },
        "id": "3Tg4X5ux8f18",
        "outputId": "6cb5c850-9a37-4015-a3c6-cf6522c353a4"
      },
      "source": [
        "z = x + 1 == 2\n",
        "print(z.f)\n",
        "z.show()"
      ],
      "execution_count": 196,
      "outputs": [
        {
          "output_type": "stream",
          "text": [
            "['=', ['+', 'x', 1], 2]\n"
          ],
          "name": "stdout"
        },
        {
          "output_type": "display_data",
          "data": {
            "text/latex": "$$x+1=2$$",
            "text/plain": [
              "<IPython.core.display.Math object>"
            ]
          },
          "metadata": {
            "tags": []
          }
        }
      ]
    },
    {
      "cell_type": "code",
      "metadata": {
        "id": "jTN-w5L09xJJ"
      },
      "source": [
        "def terms(f): \n",
        "  if isinstance(f, list) and f[0] == \"+\":\n",
        "    p1, n1 = terms(f[1])\n",
        "    p2, n2 = terms(f[2])\n",
        "    return p1 + p2, n1 + n2\n",
        "  if isinstance(f, list) and f[0] == \"-\":\n",
        "    p1, n1 = terms(f[1])\n",
        "    p2, n2 = terms(f[2]) # (p1 - n1) - (p2 - n2) = p1 - n1  - p2 + n2\n",
        "    return p1 + n2, n1 + p2\n",
        "  return [f], [] \n",
        "\n",
        "def factors(f): \n",
        "  if isinstance(f, list) and f[0] == \"*\":\n",
        "    n1, d1 = factors(f[1])\n",
        "    n2, d2 = factors(f[2]) # (n1 / d1) * (n2 / d2) --> (n1 * n2) / (d1 * d2)\n",
        "    return n1 + n2, d1 + d2\n",
        "  if isinstance(f, list) and f[0] == \"/\":\n",
        "    n1, d1 = factors(f[1])\n",
        "    n2, d2 = factors(f[2]) # (n1 / d1) / (n2 / d2) --> (n1 * d2) / (d1 * n2)\n",
        "    return n1 + d2, d1 + n2\n",
        "  return [f], [] \n",
        "\n",
        "def Mul(L):\n",
        "  res = L[0]\n",
        "  for i in L[1:]:\n",
        "    res = mul(res, i)\n",
        "  return res\n",
        "\n",
        "def solver(f, x):\n",
        "  ls, rs = f[1], f[2]\n",
        "  if contains(rs, x):\n",
        "    ls, rs = rs, ls\n",
        "\n",
        "  p, n = terms(ls)\n",
        "  for i in p:\n",
        "    if contains(i, x):\n",
        "      ls = i\n",
        "    else:\n",
        "      rs = sub(rs, i)\n",
        "  for i in n:\n",
        "    if contains(i, x):\n",
        "      ls = mul(-1, i)\n",
        "    else:\n",
        "      rs = add(rs, i)\n",
        "\n",
        "  if ls == x:\n",
        "    return eq(ls, rs) # solved!\n",
        "\n",
        "  nl, dl = factors(ls)\n",
        "  nr, dr = factors(rs)\n",
        "  for i in nl:\n",
        "    if contains(i, x):\n",
        "      ls = i\n",
        "      down = False\n",
        "    else:\n",
        "      dr.append(i)\n",
        "  for i in dl:\n",
        "    if contains(i, x):\n",
        "      ls = i\n",
        "      down = True\n",
        "    else:\n",
        "      nr.append(i)\n",
        "  if down:\n",
        "    nr, dr = dr, nr\n",
        "  if dr == []:\n",
        "    rs = Mul(nr)  \n",
        "  else:\n",
        "    rs = div(Mul(nr), Mul(dr))\n",
        "\n",
        "  if ls == x:\n",
        "    return eq(ls, rs) # solved!\n",
        "\n",
        "  if isinstance(ls, list) and ls[0] in \"+-\":\n",
        "    return solver(eq(ls, rs), x)  # recursive call\n",
        "\n",
        "  #ls = simplify(ls)\n",
        "  #rs = simplify(rs)\n",
        "  return eq(ls, rs)\n"
      ],
      "execution_count": 197,
      "outputs": []
    },
    {
      "cell_type": "code",
      "metadata": {
        "id": "-slfSfFSZFzN"
      },
      "source": [
        "from IPython.display import display, Math\n",
        "import math\n",
        "\n",
        "class yrav():\n",
        "    \n",
        "    def __init__(self, a, b, c):\n",
        "        self.a = a\n",
        "        self.b = b\n",
        "        self.c = c\n",
        "    \n",
        "    def show(self):\n",
        "      a=\"\"\n",
        "      if(self.a==0):\n",
        "        a=\"\"\n",
        "      else:\n",
        "        a+=str(self.a)+\"x^2\"\n",
        "        \n",
        "      if(self.b!=0):\n",
        "        if(self.b>0):\n",
        "          a+=\"+\"+str(self.b)+\"x\"\n",
        "        else:\n",
        "          a+=str(self.b)+\"x\"\n",
        "\n",
        "      if(self.c!=0):\n",
        "        if(self.c>0):\n",
        "          a+=\"+\"+str(self.c)\n",
        "        else:\n",
        "          a+=str(self.c)\n",
        "\n",
        "      a+=\"=0\"\n",
        "\n",
        "      return display(Math(a))\n",
        "\n",
        "    def solve(self):\n",
        "      a=\"\"\n",
        "      if(self.a!=0):\n",
        "        D=(self.b*self.b)-(4*self.a*self.c)\n",
        "        if(D>0):\n",
        "          x1=(-self.b+math.sqrt(D))/(2*self.a)\n",
        "          x2=(-self.b-math.sqrt(D))/(2*self.a)\n",
        "          if(x1==int(x1)and x2==int(x2)):\n",
        "            a+=\"X1=\"+str(x1)+\"|\"+\"X2=\"+str(x2)\n",
        "          else:\n",
        "            a+=\"X1=\"+str(-self.b/(2*self.a))+\"+√\"+str(D/(2*self.a))+\"|\"+\"X2=\"+str(-self.b/(2*self.a))+\"-√\"+str(D/(2*self.a))\n",
        "        if(D==0):\n",
        "          x1=(-self.b+math.sqrt(D))/2*self.a\n",
        "          a+=\"X=\"+str(x1)\n",
        "        if(D<0):\n",
        "          a=\"НЕТ|РЕШЕНИЙ\"\n",
        "      if(self.a==0):\n",
        "        if(self.b!=0):\n",
        "          x1=self.c/self.b\n",
        "          a+=\"X=\"+str(x1)\n",
        "        if(self.b==0):\n",
        "          a+=str(self.c)\n",
        "      return display(Math(a))"
      ],
      "execution_count": 198,
      "outputs": []
    },
    {
      "cell_type": "code",
      "metadata": {
        "colab": {
          "base_uri": "https://localhost:8080/",
          "height": 60
        },
        "id": "DAmcsX7aACG_",
        "outputId": "f4decc53-7639-4738-ea07-d33376d1399d"
      },
      "source": [
        "z = yrav(1,-3,2)\n",
        "z.show()\n",
        "z.solve()"
      ],
      "execution_count": 199,
      "outputs": [
        {
          "output_type": "display_data",
          "data": {
            "text/latex": "$$1x^2-3x+2=0$$",
            "text/plain": [
              "<IPython.core.display.Math object>"
            ]
          },
          "metadata": {
            "tags": []
          }
        },
        {
          "output_type": "display_data",
          "data": {
            "text/latex": "$$X1=2.0|X2=1.0$$",
            "text/plain": [
              "<IPython.core.display.Math object>"
            ]
          },
          "metadata": {
            "tags": []
          }
        }
      ]
    },
    {
      "cell_type": "code",
      "metadata": {
        "colab": {
          "base_uri": "https://localhost:8080/",
          "height": 60
        },
        "id": "Lf4A1eloAGIY",
        "outputId": "e7f40907-5569-4260-d91e-6cd9ca233a6c"
      },
      "source": [
        "z= yrav(1,4,4)\n",
        "z.show()\n",
        "z.solve()"
      ],
      "execution_count": 200,
      "outputs": [
        {
          "output_type": "display_data",
          "data": {
            "text/latex": "$$1x^2+4x+4=0$$",
            "text/plain": [
              "<IPython.core.display.Math object>"
            ]
          },
          "metadata": {
            "tags": []
          }
        },
        {
          "output_type": "display_data",
          "data": {
            "text/latex": "$$X=-2.0$$",
            "text/plain": [
              "<IPython.core.display.Math object>"
            ]
          },
          "metadata": {
            "tags": []
          }
        }
      ]
    },
    {
      "cell_type": "code",
      "metadata": {
        "colab": {
          "base_uri": "https://localhost:8080/",
          "height": 58
        },
        "id": "b5S1epkMAF9I",
        "outputId": "bfea4eaa-1beb-4baa-f419-95b8b94ab493"
      },
      "source": [
        "z= yrav(1,-1,2)\n",
        "z.show()\n",
        "z.solve()"
      ],
      "execution_count": 201,
      "outputs": [
        {
          "output_type": "display_data",
          "data": {
            "text/latex": "$$1x^2-1x+2=0$$",
            "text/plain": [
              "<IPython.core.display.Math object>"
            ]
          },
          "metadata": {
            "tags": []
          }
        },
        {
          "output_type": "display_data",
          "data": {
            "text/latex": "$$НЕТ|РЕШЕНИЙ$$",
            "text/plain": [
              "<IPython.core.display.Math object>"
            ]
          },
          "metadata": {
            "tags": []
          }
        }
      ]
    },
    {
      "cell_type": "code",
      "metadata": {
        "colab": {
          "base_uri": "https://localhost:8080/",
          "height": 60
        },
        "id": "Ej5wi8JrAFtX",
        "outputId": "f989e6eb-f01b-479c-a51b-97bd508c6958"
      },
      "source": [
        "z= yrav(1,-2,-1)\n",
        "z.show()\n",
        "z.solve()"
      ],
      "execution_count": 202,
      "outputs": [
        {
          "output_type": "display_data",
          "data": {
            "text/latex": "$$1x^2-2x-1=0$$",
            "text/plain": [
              "<IPython.core.display.Math object>"
            ]
          },
          "metadata": {
            "tags": []
          }
        },
        {
          "output_type": "display_data",
          "data": {
            "text/latex": "$$X1=1.0+√4.0|X2=1.0-√4.0$$",
            "text/plain": [
              "<IPython.core.display.Math object>"
            ]
          },
          "metadata": {
            "tags": []
          }
        }
      ]
    },
    {
      "cell_type": "code",
      "metadata": {
        "colab": {
          "base_uri": "https://localhost:8080/",
          "height": 38
        },
        "id": "w_2a5JJC96Sm",
        "outputId": "248fbf3c-ccad-45c1-eee4-57672aff9ee9"
      },
      "source": [
        "z = 2 == x + 1\n",
        "z.solve(x).show()"
      ],
      "execution_count": 203,
      "outputs": [
        {
          "output_type": "display_data",
          "data": {
            "text/latex": "$$x=2-1$$",
            "text/plain": [
              "<IPython.core.display.Math object>"
            ]
          },
          "metadata": {
            "tags": []
          }
        }
      ]
    },
    {
      "cell_type": "code",
      "metadata": {
        "colab": {
          "base_uri": "https://localhost:8080/",
          "height": 74
        },
        "id": "TRhlURWvD1w4",
        "outputId": "de7c64cf-0ac7-4182-c7e1-25116c397e94"
      },
      "source": [
        "z = 2 - 2 * x - 1 == 3\n",
        "z.show()\n",
        "z.solve(x).show()"
      ],
      "execution_count": 205,
      "outputs": [
        {
          "output_type": "display_data",
          "data": {
            "text/latex": "$$2-2\\cdot x-1=3$$",
            "text/plain": [
              "<IPython.core.display.Math object>"
            ]
          },
          "metadata": {
            "tags": []
          }
        },
        {
          "output_type": "display_data",
          "data": {
            "text/latex": "$$x=\\dfrac{3-2+1}{-1\\cdot 2}$$",
            "text/plain": [
              "<IPython.core.display.Math object>"
            ]
          },
          "metadata": {
            "tags": []
          }
        }
      ]
    },
    {
      "cell_type": "code",
      "metadata": {
        "colab": {
          "base_uri": "https://localhost:8080/",
          "height": 86
        },
        "id": "iKX4lpeSHzf0",
        "outputId": "b12054c8-5c92-4fd5-fb27-9bc1f37de5ce"
      },
      "source": [
        "z = 2 * x / 3 == 4\n",
        "z.show()\n",
        "z.solve(x).show()"
      ],
      "execution_count": 206,
      "outputs": [
        {
          "output_type": "display_data",
          "data": {
            "text/latex": "$$\\dfrac{2\\cdot x}{3}=4$$",
            "text/plain": [
              "<IPython.core.display.Math object>"
            ]
          },
          "metadata": {
            "tags": []
          }
        },
        {
          "output_type": "display_data",
          "data": {
            "text/latex": "$$x=\\dfrac{4\\cdot 3}{2}$$",
            "text/plain": [
              "<IPython.core.display.Math object>"
            ]
          },
          "metadata": {
            "tags": []
          }
        }
      ]
    },
    {
      "cell_type": "code",
      "metadata": {
        "colab": {
          "base_uri": "https://localhost:8080/",
          "height": 108
        },
        "id": "IdC4xlkvIVxv",
        "outputId": "b13300e3-4bc4-45bd-8d69-cf962fc8b672"
      },
      "source": [
        "z = 1 + 2 * (3 * x + 1) == 4\n",
        "z.show()\n",
        "q = z.solve(x)\n",
        "q.show()\n",
        "#print(q.f)\n",
        "print(evaluate(q.f[2]))"
      ],
      "execution_count": 207,
      "outputs": [
        {
          "output_type": "display_data",
          "data": {
            "text/latex": "$$1+2\\cdot \\left(3\\cdot x+1\\right)=4$$",
            "text/plain": [
              "<IPython.core.display.Math object>"
            ]
          },
          "metadata": {
            "tags": []
          }
        },
        {
          "output_type": "display_data",
          "data": {
            "text/latex": "$$x=\\dfrac{\\dfrac{4-1}{2}-1}{3}$$",
            "text/plain": [
              "<IPython.core.display.Math object>"
            ]
          },
          "metadata": {
            "tags": []
          }
        },
        {
          "output_type": "stream",
          "text": [
            "0.16666666666666666\n"
          ],
          "name": "stdout"
        }
      ]
    },
    {
      "cell_type": "code",
      "metadata": {
        "colab": {
          "base_uri": "https://localhost:8080/",
          "height": 128
        },
        "id": "oF-VSV_hKYwQ",
        "outputId": "91a1b0ae-9aa7-4039-b421-5246d212f736"
      },
      "source": [
        "z = 1 + (2 / (1 + (6 * (x + 1) - 2) / 4)) == 5\n",
        "z.show()\n",
        "z.solve(x).show()"
      ],
      "execution_count": 208,
      "outputs": [
        {
          "output_type": "display_data",
          "data": {
            "text/latex": "$$1+\\dfrac{2}{1+\\dfrac{6\\cdot \\left(x+1\\right)-2}{4}}=5$$",
            "text/plain": [
              "<IPython.core.display.Math object>"
            ]
          },
          "metadata": {
            "tags": []
          }
        },
        {
          "output_type": "display_data",
          "data": {
            "text/latex": "$$x=\\dfrac{\\dfrac{2}{5-1}-1\\cdot 4+2}{6}-1$$",
            "text/plain": [
              "<IPython.core.display.Math object>"
            ]
          },
          "metadata": {
            "tags": []
          }
        }
      ]
    },
    {
      "cell_type": "code",
      "metadata": {
        "colab": {
          "base_uri": "https://localhost:8080/",
          "height": 73
        },
        "id": "DtTlsi8sLRQQ",
        "outputId": "c6449bb1-0dd5-43e4-b2f8-ead71cf94576"
      },
      "source": [
        "z = 3 * sin(2 * x + 1) - 1 == 1\n",
        "z.show()\n",
        "z.solve(x).show()"
      ],
      "execution_count": 210,
      "outputs": [
        {
          "output_type": "display_data",
          "data": {
            "text/latex": "$$3\\cdot \\sin{\\left(2\\cdot x+1\\right)}-1=1$$",
            "text/plain": [
              "<IPython.core.display.Math object>"
            ]
          },
          "metadata": {
            "tags": []
          }
        },
        {
          "output_type": "display_data",
          "data": {
            "text/latex": "$$\\sin{\\left(2\\cdot x+1\\right)}=\\dfrac{1+1}{3}$$",
            "text/plain": [
              "<IPython.core.display.Math object>"
            ]
          },
          "metadata": {
            "tags": []
          }
        }
      ]
    },
    {
      "cell_type": "code",
      "metadata": {
        "colab": {
          "base_uri": "https://localhost:8080/",
          "height": 73
        },
        "id": "RqQHqXqyZqwr",
        "outputId": "1814db52-fd6e-43b8-db2d-444a097c1baa"
      },
      "source": [
        "z = x**2+2*x-3==0\n",
        "z.show()\n",
        "z.solve(x).show()"
      ],
      "execution_count": 211,
      "outputs": [
        {
          "output_type": "display_data",
          "data": {
            "text/latex": "$${x}^{2}+2\\cdot x-3=0$$",
            "text/plain": [
              "<IPython.core.display.Math object>"
            ]
          },
          "metadata": {
            "tags": []
          }
        },
        {
          "output_type": "display_data",
          "data": {
            "text/latex": "$$x=\\dfrac{0+3}{2}$$",
            "text/plain": [
              "<IPython.core.display.Math object>"
            ]
          },
          "metadata": {
            "tags": []
          }
        }
      ]
    }
  ]
}