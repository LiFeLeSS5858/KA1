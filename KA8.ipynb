{
  "nbformat": 4,
  "nbformat_minor": 0,
  "metadata": {
    "colab": {
      "name": "KA8.ipynb",
      "provenance": [],
      "collapsed_sections": [],
      "include_colab_link": true
    },
    "kernelspec": {
      "name": "python3",
      "display_name": "Python 3"
    },
    "language_info": {
      "name": "python"
    }
  },
  "cells": [
    {
      "cell_type": "markdown",
      "metadata": {
        "id": "view-in-github",
        "colab_type": "text"
      },
      "source": [
        "<a href=\"https://colab.research.google.com/github/LiFeLeSS5858/KA1/blob/main/KA8.ipynb\" target=\"_parent\"><img src=\"https://colab.research.google.com/assets/colab-badge.svg\" alt=\"Open In Colab\"/></a>"
      ]
    },
    {
      "cell_type": "code",
      "metadata": {
        "id": "_EUm6BDBjrzc"
      },
      "source": [
        "from IPython.display import display, Math\n",
        "import matplotlib\n",
        "import matplotlib.pyplot as plt"
      ],
      "execution_count": null,
      "outputs": []
    },
    {
      "cell_type": "code",
      "metadata": {
        "id": "5G1Eo9cajzaY"
      },
      "source": [
        "def add(x, y):\n",
        "  return ['+', x, y]\n",
        "\n",
        "def mul(x, y):\n",
        "  return ['*', x, y]\n",
        "\n",
        "def div(x, y):\n",
        "  return [\"/\", x, y]\n",
        "\n",
        "def sub(x, y):\n",
        "  return [\"-\", x, y]\n",
        "\n",
        "def pow(x, y):\n",
        "  return [\"^\", x, y]\n",
        "\n",
        "def neg(x):\n",
        "  return [\"--\", x]\n",
        "\n",
        "def eq(x, y):\n",
        "  return [\"=\", x, y]\n",
        "  \n",
        "def fsqrt(x):\n",
        "  return ['sqrt', x]\n",
        "\n",
        "def fsin(x):\n",
        "  return ['sin', x]\n",
        "\n",
        "def fcos(x):\n",
        "  return ['cos', x]\n",
        "\n",
        "def fasin(x):\n",
        "  return ['asin', x]\n",
        "\n",
        "def facos(x):\n",
        "  return ['acos', x]\n",
        "\n",
        "def fsinh(x):\n",
        "  return ['sinh', x]\n",
        "\n",
        "def fcosh(x):\n",
        "  return ['cosh', x]\n",
        "\n",
        "def fasinh(x):\n",
        "  return ['asinh', x]\n",
        "\n",
        "def facosh(x):\n",
        "  return ['acosh', x]\n",
        "\n",
        "def fln(x):\n",
        "  return ['ln', x]\n",
        "\n",
        "def flg(x):\n",
        "  return['lg',x]"
      ],
      "execution_count": null,
      "outputs": []
    },
    {
      "cell_type": "code",
      "metadata": {
        "id": "n9JZl-E_kEtS"
      },
      "source": [
        "def check(x):\n",
        "  if isinstance(x, Expression):\n",
        "    return x\n",
        "  return Expression(x)\n",
        "\n",
        "class Expression:\n",
        "  def __init__(self, f):\n",
        "    self.f = f\n",
        "  def __add__(self, x):\n",
        "    x = check(x)\n",
        "    return Expression(add(self.f, x.f))\n",
        "  def __sub__(self, x):\n",
        "    x = check(x)\n",
        "    return Expression(sub(self.f, x.f))\n",
        "  def __mul__(self, x):\n",
        "    x = check(x)\n",
        "    return Expression(mul(self.f, x.f))\n",
        "  def __truediv__(self, x):\n",
        "    x = check(x)\n",
        "    return Expression(div(self.f, x.f))\n",
        "  def __pow__(self, x):\n",
        "    x = check(x)\n",
        "    return Expression(pow(self.f, x.f))\n",
        "  def __radd__(self, x):\n",
        "    x = check(x)\n",
        "    return Expression(add(x.f, self.f))\n",
        "  def __rsub__(self, x):\n",
        "    x = check(x)\n",
        "    return Expression(sub(x.f, self.f))\n",
        "  def __rmul__(self, x):\n",
        "    x = check(x)\n",
        "    return Expression(mul(x.f, self.f))\n",
        "  def __rtruediv__(self, x):\n",
        "    x = check(x)\n",
        "    return Expression(div(x.f, self.f))\n",
        "  def __rpow__(self, x):\n",
        "    x = check(x)\n",
        "    return Expression(pow(x.f, self.f))\n",
        "  def __neg__(self):\n",
        "    return Expression(neg(self.f))\n",
        "  def subs(self, var, val):\n",
        "    return Expression(substitute(self.f, var, val))\n",
        "  def evalf(self):\n",
        "    return evaluate(self.f)\n",
        "  def __str__(self):\n",
        "    return expr2latex(self.f)\n",
        "  def show(self):\n",
        "    display(Math(expr2latex(self.f)))\n",
        "  def diff(self, var):\n",
        "    var = check(var).f\n",
        "    return Expression(differentiate(self.f, var))\n",
        "  def simp(self):\n",
        "    return Expression(simplify(self.f))\n",
        "  def expn(self):\n",
        "    return Expression(expand(self.f))\n",
        "  def intg(self, var):\n",
        "    var = check(var).f\n",
        "    return Expression(integrate(self.f, var))\n",
        "  def __eq__(self, x):\n",
        "    x = check(x)\n",
        "    return Expression(eq(self.f, x.f))\n",
        "  def solve(self, var):\n",
        "    var = check(var).f\n",
        "    return Expression(solver(self.f, var))\n",
        "  def dsolve(self, y, x, init = None):\n",
        "    x = check(x).f\n",
        "    y = check(y).f\n",
        "    return Expression(dsolver(self.f, y, x, init))"
      ],
      "execution_count": null,
      "outputs": []
    },
    {
      "cell_type": "code",
      "metadata": {
        "id": "QPYNZLBOkb6o"
      },
      "source": [
        "def sqrt(x):\n",
        "  x = check(x)\n",
        "  t = x.f\n",
        "  r = fsqrt(t)\n",
        "  return Expression(r)\n",
        "\n",
        "def sin(x):\n",
        "  return Expression(fsin(check(x).f))\n",
        "\n",
        "def cos(x):\n",
        "  return Expression(fcos(check(x).f))\n",
        "\n",
        "def asin(x):\n",
        "  return Expression(fasin(check(x).f))\n",
        "\n",
        "def acos(x):\n",
        "  return Expression(facos(check(x).f))\n",
        "\n",
        "def sinh(x):\n",
        "  return Expression(fsinh(check(x).f))\n",
        "\n",
        "def cosh(x):\n",
        "  return Expression(fcosh(check(x).f))\n",
        "\n",
        "def asinh(x):\n",
        "  return Expression(fasinh(check(x).f))\n",
        "\n",
        "def acosh(x):\n",
        "  return Expression(facosh(check(x).f))\n",
        "\n",
        "def ln(x):\n",
        "  return Expression(fln(check(x).f))\n",
        "\n",
        "def lg(x):\n",
        "  return Expression(flg(check(x).f))\n"
      ],
      "execution_count": null,
      "outputs": []
    },
    {
      "cell_type": "code",
      "metadata": {
        "id": "D-fZAZpYkeVg"
      },
      "source": [
        "def substitute(f, var, val):\n",
        "  var = check(var).f\n",
        "  val = check(val).f\n",
        "  if f == var:\n",
        "    return val\n",
        "  elif isinstance(f, list):\n",
        "    y = [f[0]]\n",
        "    for i in range(1, len(f)):\n",
        "      t = substitute(f[i], var, val)\n",
        "      y.append(t)\n",
        "    return y\n",
        "  else:\n",
        "    return f"
      ],
      "execution_count": null,
      "outputs": []
    },
    {
      "cell_type": "code",
      "metadata": {
        "id": "I3WXlQ3GkgNk"
      },
      "source": [
        "import math\n",
        "def evaluate(f):\n",
        "  if isinstance(f, (int, float)):\n",
        "    return f\n",
        "  elif isinstance(f, list):\n",
        "    if f[0] == \"+\": \n",
        "      return evaluate(f[1]) + evaluate(f[2])\n",
        "    if f[0] == \"-\": \n",
        "      return evaluate(f[1]) - evaluate(f[2])\n",
        "    elif f[0] == \"*\":\n",
        "      return evaluate(f[1]) * evaluate(f[2])\n",
        "    elif f[0] == \"/\":\n",
        "      if f[2]==0:\n",
        "        return \"Error\"\n",
        "      return evaluate(f[1]) / evaluate(f[2])\n",
        "    elif f[0] == \"sqrt\":\n",
        "      return math.sqrt(evaluate(f[1]))\n",
        "    elif f[0] == \"sin\":\n",
        "      return math.sin(evaluate(f[1]))\n",
        "    elif f[0] == \"cos\":\n",
        "      return math.cos(evaluate(f[1]))\n",
        "    elif f[0] == \"asin\":\n",
        "      return math.asin(evaluate(f[1]))\n",
        "    elif f[0] == \"acos\":\n",
        "      return math.acos(evaluate(f[1]))\n",
        "    elif f[0] == \"sinh\":\n",
        "      return math.sinh(evaluate(f[1]))\n",
        "    elif f[0] == \"cosh\":\n",
        "      return math.cosh(evaluate(f[1]))\n",
        "    elif f[0] == \"asinh\":\n",
        "      return math.asinh(evaluate(f[1]))\n",
        "    elif f[0] == \"acosh\":\n",
        "      return math.acosh(evaluate(f[1]))\n",
        "    elif f[0] == \"ln\":\n",
        "      return math.log(evaluate(f[1]))\n",
        "    elif f[0] == \"lg\":\n",
        "      return math.log10(evaluate(f[1]))\n",
        "  return None"
      ],
      "execution_count": null,
      "outputs": []
    },
    {
      "cell_type": "code",
      "metadata": {
        "id": "UBe5pt44lAdV"
      },
      "source": [
        "def expr2latex(x):\n",
        "  if isinstance(x, (int, float)):\n",
        "    return str(x)\n",
        "  if isinstance(x, str):\n",
        "    return x\n",
        "  if isinstance(x, list):\n",
        "    if x[0] == \"+\":\n",
        "      return expr2latex(x[1]) + \"+\" + expr2latex(x[2])\n",
        "    if x[0] == \"-\":\n",
        "      return expr2latex(x[1]) + \"-\" + expr2latex(x[2])\n",
        "    if x[0] == \"*\":\n",
        "      left = expr2latex(x[1])\n",
        "      if isinstance(x[1], list) and x[1][0] == \"+\":\n",
        "        left = \"\\\\left(\" + left + \"\\\\right)\"\n",
        "      right = expr2latex(x[2])\n",
        "      if isinstance(x[2], list) and x[2][0] == \"+\":\n",
        "        right = \"\\\\left(\" + right + \"\\\\right)\"\n",
        "      return left + \"\\\\cdot \" + right\n",
        "    if x[0] == \"/\":\n",
        "      return \"\\\\dfrac{\" + expr2latex(x[1]) + \"}{\" + expr2latex(x[2]) + \"}\"\n",
        "    if x[0] == \"^\":\n",
        "      left = expr2latex(x[1])\n",
        "      if isinstance(x[1], list):\n",
        "        left = \"\\\\left(\" + left + \"\\\\right)\"\n",
        "      right = expr2latex(x[2])\n",
        "      return \"{\" + left + \"}^{\" + right + \"}\"\n",
        "    if x[0] == \"sqrt\":\n",
        "      a = expr2latex(x[1])\n",
        "      return \"\\\\sqrt{\" + a + \"}\"\n",
        "    if x[0]==\"--\":\n",
        "      a=expr2latex(x[1])\n",
        "      if isinstance(x[1], list):\n",
        "        a = \"\\\\left(\" + a + \"\\\\right)\"\n",
        "      return \"-{\" + a +\"}\"\n",
        "    if x[0] == \"sin\":\n",
        "      a = expr2latex(x[1])\n",
        "      if isinstance(x[1], list):\n",
        "        a = \"\\\\left(\" + a + \"\\\\right)\"\n",
        "      return \"\\\\sin{\" + a + \"}\"\n",
        "    if x[0] == \"cos\":\n",
        "      a = expr2latex(x[1])\n",
        "      if isinstance(x[1], list):\n",
        "        a = \"\\\\left(\" + a + \"\\\\right)\"\n",
        "      return \"\\\\cos{\" + a + \"}\"\n",
        "    if x[0] == \"asin\":\n",
        "      a = expr2latex(x[1])\n",
        "      if isinstance(x[1], list):\n",
        "        a = \"\\\\left(\" + a + \"\\\\right)\"\n",
        "      return \"\\\\arcsin{\" + a + \"}\"\n",
        "    if x[0] == \"acos\":\n",
        "      a = expr2latex(x[1])\n",
        "      if isinstance(x[1], list):\n",
        "        a = \"\\\\left(\" + a + \"\\\\right)\"\n",
        "      return \"\\\\arccos{\" + a + \"}\"\n",
        "    if x[0] == \"sinh\":\n",
        "      a = expr2latex(x[1])\n",
        "      if isinstance(x[1], list):\n",
        "        a = \"\\\\left(\" + a + \"\\\\right)\"\n",
        "      return \"\\\\sinh{\" + a + \"}\"\n",
        "    if x[0] == \"cosh\":\n",
        "      a = expr2latex(x[1])\n",
        "      if isinstance(x[1], list):\n",
        "        a = \"\\\\left(\" + a + \"\\\\right)\"\n",
        "      return \"\\\\cosh{\" + a + \"}\"\n",
        "    if x[0] == \"asinh\":\n",
        "      a = expr2latex(x[1])\n",
        "      if isinstance(x[1], list):\n",
        "        a = \"\\\\left(\" + a + \"\\\\right)\"\n",
        "      return \"\\\\arsinh{\" + a + \"}\"\n",
        "    if x[0] == \"acosh\":\n",
        "      a = expr2latex(x[1])\n",
        "      if isinstance(x[1], list):\n",
        "        a = \"\\\\left(\" + a + \"\\\\right)\"\n",
        "      return \"\\\\arcosh{\" + a + \"}\"\n",
        "    if x[0] == \"ln\":\n",
        "      a = expr2latex(x[1])\n",
        "      if isinstance(x[1], list):\n",
        "        a = \"\\\\left(\" + a + \"\\\\right)\"\n",
        "      return \"\\\\ln{\" + a + \"}\"\n",
        "    if x[0] == \"lg\":\n",
        "      a = expr2latex(x[1])\n",
        "      if isinstance(x[1], list):\n",
        "        a = \"\\\\left(\" + a + \"\\\\right)\"\n",
        "      return \"\\\\lg{\" + a + \"}\"\n",
        "    if x[0] == \"int\":\n",
        "      a = expr2latex(x[1])\n",
        "      if isinstance(x[1], list) and x[1][0] in \"+-\":\n",
        "        a = \"\\\\left(\" + a + \"\\\\right)\"\n",
        "      return \"\\\\int{\" + a + \"}d\" + x[2]\n",
        "    if x[0] == \"=\":\n",
        "      return expr2latex(x[1]) + \"=\" + expr2latex(x[2])\n",
        "    if x[0] == \"D\": \n",
        "      a = expr2latex(x[1])\n",
        "      if isinstance(x[1], list):\n",
        "        a = \"\\\\left(\" + a + \"\\\\right)\"\n",
        "      b = expr2latex(x[2])\n",
        "      if isinstance(x[2], list):\n",
        "        b = \"\\\\left(\" + b + \"\\\\right)\"\n",
        "      return \"\\\\dfrac{d{\" + a + \"}}{d{\" + b + \"}}\"\n"
      ],
      "execution_count": null,
      "outputs": []
    },
    {
      "cell_type": "code",
      "metadata": {
        "id": "Hfdl9R4JkjfV"
      },
      "source": [
        "def symbols(vars):\n",
        "  return map(Expression, vars.split())\n",
        "x, y = symbols(\"x y\")  "
      ],
      "execution_count": null,
      "outputs": []
    },
    {
      "cell_type": "code",
      "metadata": {
        "id": "MdTty9O6dwBc"
      },
      "source": [
        "import math\n",
        "def differentiate(f, x):\n",
        "  if isinstance(f, int):\n",
        "    return 0\n",
        "  if f == x:\n",
        "    return 1\n",
        "  if isinstance(f, str):\n",
        "    return 0\n",
        "  if isinstance(f, list):\n",
        "    if f[0] == \"+\":\n",
        "      u, v = f[1], f[2]\n",
        "      u1, v1 = differentiate(u, x), differentiate(v, x)\n",
        "      return add(u1, v1)\n",
        "    if f[0] == \"-\":\n",
        "      u, v = f[1], f[2]\n",
        "      u1, v1 = differentiate(u, x), differentiate(v, x)\n",
        "      return sub(u1, v1)      \n",
        "    if f[0] == \"*\":\n",
        "      u, v = f[1], f[2]\n",
        "      u1, v1 = differentiate(u, x), differentiate(v, x)\n",
        "      return add(mul(u1, v), mul(u, v1))   \n",
        "    if f[0] == \"/\":\n",
        "      u, v = f[1], f[2]\n",
        "      u1, v1 = differentiate(u, x), differentiate(v, x)\n",
        "      return div(sub(mul(u1, v), mul(u, v1)), pow(v, 2))   \n",
        "    if f[0] == \"^\":\n",
        "      u, v = f[1], f[2]\n",
        "      u1, v1 = differentiate(u, x), differentiate(v, x)\n",
        "      p1, p2 = pow(u, v), pow(u, sub(v, 1))\n",
        "      s1 = mul(p1, mul(v1, fln(u)))\n",
        "      s2 = mul(v, mul(p2, u1))\n",
        "      return add(s1, s2) \n",
        "    if f[0] == \"--\":\n",
        "      u = f[1]\n",
        "      u1 = differentiate(u, x)\n",
        "      return neg(u1)\n",
        "    if f[0] == \"ln\":\n",
        "      u = f[1]\n",
        "      u1 = differentiate(u, x)\n",
        "      return div(u1, u)\n",
        "    if f[0]==\"lg\":\n",
        "      u=f[1]\n",
        "      u1=differentiate(u,x)\n",
        "      return div(u1, mul(u,fln(10)))\n",
        "    if f[0] == \"sin\":\n",
        "      u = f[1]\n",
        "      u1 = differentiate(u, x)\n",
        "      return mul(fcos(u), u1)\n",
        "    if f[0]==\"asin\":\n",
        "      u=f[1]\n",
        "      u1=differentiate(u, x)\n",
        "      return div(1,fsqrt(sub(1,pow(x,2))))\n",
        "    if f[0] == \"cos\":\n",
        "      u = f[1]\n",
        "      u1 = differentiate(u, x)\n",
        "      return mul(neg(fsin(u)), u1)\n",
        "    if f[0]==\"acos\":\n",
        "      u=f[1]\n",
        "      u1=differentiate(u, x)\n",
        "      return div(-1,fsqrt(sub(1,pow(x,2))))\n",
        "    if f[0]==\"sinh\":\n",
        "      u=f[1]\n",
        "      u1=differentiate(u, x)\n",
        "      return div(sub(math.exp(u),math.exp(-u)),2)\n",
        "    if f[0]==\"cosh\":\n",
        "      u=f[1]\n",
        "      u1=differentiate(u, x)\n",
        "      return div(add(math.exp(u),math.exp(-u)),2)\n",
        "    if f[0]==\"asinh\":\n",
        "      u=f[1]\n",
        "      u1=differentiate(u, x)\n",
        "      return div(1,fsqrt(add(pow(x,2),1)))\n",
        "    if f[0]==\"acosh\":\n",
        "      u=f[1]\n",
        "      u1=differentiate(u, x)\n",
        "      return div(1,fsqrt(sub(pow(x,2),1)))\n",
        "    if f[0] == \"sqrt\":\n",
        "      u = f[1]\n",
        "      u1 = differentiate(u, x)\n",
        "      return div(u1, mul(2, fsqrt(u)))"
      ],
      "execution_count": null,
      "outputs": []
    },
    {
      "cell_type": "code",
      "metadata": {
        "id": "GD96ttx6pdHo"
      },
      "source": [
        "def simplify(f):\n",
        "  if isinstance(f, list):\n",
        "    r = [f[0]]\n",
        "    for x in f[1:]:\n",
        "      r.append(simplify(x))\n",
        "    if r[0] == \"+\":\n",
        "      if isinstance(r[1], int) and isinstance(r[2], int):\n",
        "        return r[1] + r[2] \n",
        "      if r[1] == 0: \n",
        "        return r[2]\n",
        "      if r[2] == 0:\n",
        "        return r[1]\n",
        "      if r[1] == r[2]:\n",
        "        return mul(2, r[1])\n",
        "      if isinstance(r[2], list) and r[2][0] == \"--\": # unary minus\n",
        "        return simplify(sub(r[1], r[2][1]))\n",
        "    if r[0] == \"-\":\n",
        "      if isinstance(r[1], int) and isinstance(r[2], int):\n",
        "        return r[1] - r[2]\n",
        "      if r[1] == 0: \n",
        "        return neg(r[2])\n",
        "      if r[2] == 0:\n",
        "        return r[1]\n",
        "      if r[1] == r[2]:\n",
        "        return 0\n",
        "      if isinstance(r[2], list) and r[2][0] == \"--\": # unary minus\n",
        "        return simplify(add(r[1], r[2][1]))\n",
        "    if r[0] == \"*\":\n",
        "      if isinstance(r[1], int) and isinstance(r[2], int):\n",
        "        return r[1] * r[2] \n",
        "      if r[1] == 0 or r[2] == 0: \n",
        "        return 0\n",
        "      if r[1] == 1:\n",
        "        return r[2]\n",
        "      if r[2] == 1:\n",
        "        return r[1]\n",
        "      if r[1] == r[2]:\n",
        "        return pow(r[1], 2)\n",
        "    if r[0] == \"/\":\n",
        "      if isinstance(r[1], int) and isinstance(r[2], int) and r[2]>0:\n",
        "        return r[1] / r[2] \n",
        "      if r[1] == 0: \n",
        "        return 0\n",
        "      if r[2] == 1:\n",
        "        return r[1]\n",
        "      if r[1] == r[2]:\n",
        "        return 1\n",
        "    if r[0] == \"^\":\n",
        "      if isinstance(r[1], int) and isinstance(r[2], int) and r[2] > 0:\n",
        "        return r[1] ** r[2] \n",
        "      if r[2] == 1: \n",
        "        return r[1]\n",
        "    if r[0] == \"sqrt\":\n",
        "      if isinstance(r[1], int):\n",
        "        a = int(math.sqrt(r[1]))\n",
        "        if a * a == r[1]:\n",
        "          return a\n",
        "        if a * a != r[1]:\n",
        "          k=2\n",
        "          while r[1]%k!=0:\n",
        "            r[1]/=k\n",
        "            a = int(math.sqrt(r[1]))\n",
        "            if a * a == r[1]:\n",
        "              return a\n",
        "            k+=1\n",
        "          #a = int(math.sqrt(r[1]))\n",
        "          #r[1]=r[1]/k\n",
        "          #return r\n",
        "        return r \n",
        "    return r\n",
        "  return f "
      ],
      "execution_count": null,
      "outputs": []
    },
    {
      "cell_type": "code",
      "metadata": {
        "id": "1AyG87zXvQsh"
      },
      "source": [
        "def expand(f):\n",
        "  if isinstance(f, list):\n",
        "    r = [f[0]]\n",
        "    for x in f[1:]:\n",
        "      r.append(expand(x))\n",
        "    if r[0] == \"*\":\n",
        "      if isinstance(r[1], list) and r[1][0] == \"+\":\n",
        "        a = expand(mul(r[1][1], r[2]))\n",
        "        b = expand(mul(r[1][2], r[2]))\n",
        "        return add(a, b)\n",
        "      if isinstance(r[1], list) and r[1][0] == \"-\":\n",
        "        a = expand(mul(r[1][1], r[2]))\n",
        "        b = expand(mul(r[1][2], r[2]))\n",
        "        return sub(a, b)\n",
        "      if isinstance(r[2], list) and r[2][0] == \"+\":\n",
        "        a = expand(mul(r[1], r[2][1]))\n",
        "        b = expand(mul(r[1], r[2][2]))\n",
        "        return add(a, b)\n",
        "      if isinstance(r[2], list) and r[2][0] == \"-\":\n",
        "        a = expand(mul(r[1], r[2][1]))\n",
        "        b = expand(mul(r[1], r[2][2]))\n",
        "        return sub(a, b)\n",
        "    if r[0] == \"^\":\n",
        "      if isinstance(r[1], list) and r[1][0] == \"+\" and r[2] == 2:\n",
        "        a = pow(r[1][1], 2)\n",
        "        b = mul(2, mul(r[1][1], r[1][2]))\n",
        "        c = pow(r[1][2], 2)\n",
        "        return add(a, add(b, c))\n",
        "    return r\n",
        "  return f"
      ],
      "execution_count": null,
      "outputs": []
    },
    {
      "cell_type": "code",
      "metadata": {
        "id": "Ix8MjwWOtkxd"
      },
      "source": [
        "def integral(f, x):\n",
        "  return [\"int\", f, x]\n",
        "\n",
        "def contains(f, x):\n",
        "  if f == x:\n",
        "    return True\n",
        "  if isinstance(f, (int, str)):\n",
        "    return False\n",
        "  if isinstance(f, list):\n",
        "    for a in f:\n",
        "      if contains(a, x):\n",
        "        return True\n",
        "  return False\n",
        "\n",
        "def integrate(f, x):\n",
        "  if not contains(f, x):\n",
        "    return mul(f, x)\n",
        "  if f == x:\n",
        "    return mul(div(1, 2), pow(x, 2))\n",
        "  if isinstance(f, list):\n",
        "    if f[0]==\"/\" and  not isinstance(f[2],list) and contains(f[2],x):\n",
        "      return fln(x)\n",
        "    if f[0]==\"/\" and isinstance(f[2],list) and contains(f[2],\"^\"):\n",
        "      return neg(div(1,mul(pow(x,sub(f[2][2],1)),sub(f[2][2],1))))\n",
        "    if f[0] == \"cos\" and f[1] == x:\n",
        "      return fsin(x)\n",
        "    if f[0] == \"sin\" and f[1] == x:\n",
        "      return neg(fcos(x))\n",
        "    if f[0] == \"sqrt\" and f[1] == x:\n",
        "      return mul(div(2, 3), mul(x, fsqrt(x)))\n",
        "    if f[0] == \"^\" and f[1] == x and not contains(f[2], x):\n",
        "      if f[2] == -1:\n",
        "        return fln(x)\n",
        "      else:\n",
        "        return mul(div(1, add(f[2], 1)), pow(x, add(f[2], 1))) \n",
        "    if f[0] == \"^\" and f[2] == x and not contains(f[1], x):\n",
        "      return mul(div(1, fln(f[1])), f)\n",
        "    if f[0] in \"+-\":\n",
        "      a = integrate(f[1], x)\n",
        "      b = integrate(f[2], x)\n",
        "      return [f[0], a, b]\n",
        "    if f[0] == \"*\" and not contains(f[1], x):\n",
        "      a = integrate(f[2], x)\n",
        "      return mul(f[1], a)\n",
        "    if f[0] == \"*\" and not contains(f[2], x):\n",
        "      a = integrate(f[1], x)\n",
        "      return mul(f[2], a)\n",
        "    if f[0] == \"/\" and not contains(f[2], x):\n",
        "      a = integrate(f[1], x)\n",
        "      return mul(div(1, f[2]), a)\n",
        "    \n",
        "    if f[0] == \"*\" and f[1] == x:\n",
        "      t = x + \"t\"\n",
        "      g = substitute(f[2], pow(x, 2), t)\n",
        "      if not contains(g, x):\n",
        "        G = integrate(g, t)\n",
        "        if not contains(G, \"int\"): \n",
        "          F = substitute(G, t, pow(x, 2))\n",
        "          return mul(div(1, 2), F)\n",
        "    if f[0] == \"*\" and contains(f[1], \"sin\") and contains(f[2], \"cos\"):\n",
        "      t = x+\"sin(t)\"\n",
        "      g = substitute(f[1], sin(x), t)\n",
        "      if not contains(g, x):\n",
        "        G = integrate(g, t)\n",
        "        if not contains(G, \"int\"): \n",
        "          F = substitute(G, t, sin(x))\n",
        "          return F\n",
        "    if f[0] == \"*\" and contains(f[1], \"cos\") and contains(f[2], \"sin\"):\n",
        "      t = x+\"cos(t)\"\n",
        "      g = substitute(f[1], cos(x), t)\n",
        "      if not contains(g, x):\n",
        "        G = integrate(g, t)\n",
        "        if not contains(G, \"int\"): \n",
        "          F = substitute(G, t, cos(x))\n",
        "          return neg(F)\n",
        "    if f[0] == \"*\" and contains(f[1], \"/\") and contains(f[2], \"ln\"):\n",
        "      t = x+\"ln(t)\"\n",
        "      g = substitute(f[1], div(1,x), t)\n",
        "      if not contains(g, x):\n",
        "        G = integrate(g, t)\n",
        "        if not contains(G, \"int\"): \n",
        "          F = substitute(G, t, ln(x))\n",
        "          return F\n",
        "    if f[0] == \"*\" and contains(f[1], \"sqrt\") and contains(f[2], \"sqrt\"):\n",
        "      t = x+\"sqrt(t)\"\n",
        "      g = substitute(f[2], f[2][1], t)\n",
        "      if not contains(g, x):\n",
        "        G = integrate(g, t)\n",
        "        if not contains(G, \"int\"): \n",
        "          F = substitute(G, t, f[2][1])\n",
        "          return mul(2,F)\n",
        "    if f[0] == \"*\" and isinstance(f[1][1], int) and contains(f[2], \"^\"):\n",
        "      t = x+\"a^x\"\n",
        "      g = substitute(f[2], f[2][1], t)\n",
        "      if not contains(g, x):\n",
        "        G = integrate(g, t)\n",
        "        if not contains(G, \"int\"): \n",
        "          F = substitute(G, t, f[2][1])\n",
        "          return mul(div(1,fln(f[1][1])),F)\n",
        "    if f[0] == \"*\" and contains(f[1], \"^\") and contains(f[2], \"^\"):\n",
        "      t = x+\"t^n\"\n",
        "      g = substitute(f[2], f[2][1], t)\n",
        "      if not contains(g, x):\n",
        "        G = integrate(g, t)\n",
        "        if not contains(G, \"int\"): \n",
        "          F = substitute(G, t, f[2][1])\n",
        "          return mul(div(1,f[2][1][2]),F)\n",
        "\n",
        "  return integral(f, x)"
      ],
      "execution_count": null,
      "outputs": []
    },
    {
      "cell_type": "code",
      "metadata": {
        "id": "GuYlsYskNANC"
      },
      "source": [
        "def terms(f): \n",
        "  if isinstance(f, list) and f[0] == \"+\":\n",
        "    p1, n1 = terms(f[1])\n",
        "    p2, n2 = terms(f[2])\n",
        "    return p1 + p2, n1 + n2\n",
        "  if isinstance(f, list) and f[0] == \"-\":\n",
        "    p1, n1 = terms(f[1])\n",
        "    p2, n2 = terms(f[2]) # (p1 - n1) - (p2 - n2) = p1 - n1  - p2 + n2\n",
        "    return p1 + n2, n1 + p2\n",
        "  return [f], [] \n",
        "\n",
        "def factors(f): \n",
        "  if isinstance(f, list) and f[0] == \"*\":\n",
        "    n1, d1 = factors(f[1])\n",
        "    n2, d2 = factors(f[2]) # (n1 / d1) * (n2 / d2) --> (n1 * n2) / (d1 * d2)\n",
        "    return n1 + n2, d1 + d2\n",
        "  if isinstance(f, list) and f[0] == \"/\":\n",
        "    n1, d1 = factors(f[1])\n",
        "    n2, d2 = factors(f[2]) # (n1 / d1) / (n2 / d2) --> (n1 * d2) / (d1 * n2)\n",
        "    return n1 + d2, d1 + n2\n",
        "  return [f], [] \n",
        "\n",
        "def Mul(L):\n",
        "  res = L[0]\n",
        "  for i in L[1:]:\n",
        "    res = mul(res, i)\n",
        "  return res\n",
        " \n",
        "\n",
        "def solver(f, x):\n",
        "  \n",
        "\n",
        "  ls, rs = f[1], f[2]\n",
        "  if contains(rs, x):\n",
        "    ls, rs = rs, ls\n",
        "\n",
        "  p, n = terms(ls)\n",
        "  for i in p:\n",
        "    if contains(i, x):\n",
        "      ls = i\n",
        "    else:\n",
        "      rs = sub(rs, i)\n",
        "  for i in n:\n",
        "    if contains(i, x):\n",
        "      ls = mul(-1, i)\n",
        "    else:\n",
        "      rs = add(rs, i)\n",
        "\n",
        "  if ls == x:\n",
        "    return eq(ls, rs) # solved!\n",
        "\n",
        "  nl, dl = factors(ls)\n",
        "  nr, dr = factors(rs)\n",
        "  for i in nl:\n",
        "    if contains(i, x):\n",
        "      ls = i\n",
        "      down = False\n",
        "    else:\n",
        "      dr.append(i)\n",
        "  for i in dl:\n",
        "    if contains(i, x):\n",
        "      ls = i\n",
        "      down = True\n",
        "    else:\n",
        "      nr.append(i)\n",
        "  if down:\n",
        "    nr, dr = dr, nr\n",
        "  if dr == []:\n",
        "    rs = Mul(nr)  \n",
        "  else:\n",
        "    rs = div(Mul(nr), Mul(dr))\n",
        "\n",
        "  if ls == x:\n",
        "    return eq(ls, rs) # solved!\n",
        "\n",
        "  if isinstance(ls, list) and ls[0] in \"+-\":\n",
        "    return solver(eq(ls, rs), x)  # recursive call\n",
        "\n",
        "  #ls = simplify(ls)\n",
        "  #rs = simplify(rs)\n",
        "  return eq(ls, rs)"
      ],
      "execution_count": null,
      "outputs": []
    },
    {
      "cell_type": "code",
      "metadata": {
        "id": "vK8tdoS1i6Ug"
      },
      "source": [
        "def derivative(y, x):\n",
        "  return [\"D\", 'y', 'x']\n",
        "\n",
        "def D(y, x):\n",
        "  x = check(x).f\n",
        "  y = check(y).f\n",
        "  return Expression(derivative(y, x))\n",
        "\n",
        "def dsolver(ode, y, x, init):\n",
        "  d = derivative(y, x) # [\"D\", y, x]\n",
        "  ode2 = solver(ode, d) # [\"=\", [\"D\", y, x], rhs]\n",
        "  print(\"Разрешение производной\")\n",
        "  Expression(ode2).show()\n",
        "  if ode2[1] != d:\n",
        "    return ode2\n",
        "\n",
        "  n, d = factors(ode2[2])\n",
        "\n",
        "  nx, dx = [1], [1]\n",
        "  ny, dy = [1], [1]\n",
        "\n",
        "  for i in n:\n",
        "    if contains(i, y):\n",
        "      dy.append(i)\n",
        "    else:\n",
        "      nx.append(i)\n",
        "  \n",
        "  for i in d:\n",
        "    if contains(i, x):\n",
        "      dx.append(i)\n",
        "    else:\n",
        "      ny.append(i)\n",
        "\n",
        "  yf = simplify(div(Mul(ny), Mul(dy)))\n",
        "  xf = simplify(div(Mul(nx), Mul(dx)))\n",
        "  print(\"Разделение переменных\")\n",
        "  (Expression(yf) * Expression(\"dy\") == Expression(xf) * Expression(\"dx\")).show()\n",
        "\n",
        "  YF = simplify(integrate(yf, y))\n",
        "  XF = simplify(integrate(xf, x))  \n",
        "\n",
        "  if init == None:\n",
        "    return eq(YF, add(XF, \"C\"))\n",
        "  else:\n",
        "    y0, x0 = init\n",
        "    YF0 = simplify(substitute(YF, y, y0))\n",
        "    XF0 = simplify(substitute(XF, x, x0))\n",
        "    return eq(sub(YF, YF0), sub(XF, XF0))"
      ],
      "execution_count": null,
      "outputs": []
    },
    {
      "cell_type": "code",
      "metadata": {
        "id": "F1QGaW24TC7A",
        "colab": {
          "base_uri": "https://localhost:8080/",
          "height": 92
        },
        "outputId": "dd32647c-9183-43da-dafe-d3898a668021"
      },
      "source": [
        "z=1/x**2\n",
        "z.show()\n",
        "z.intg(x).show()"
      ],
      "execution_count": null,
      "outputs": [
        {
          "output_type": "display_data",
          "data": {
            "text/latex": "$$\\dfrac{1}{{x}^{2}}$$",
            "text/plain": [
              "<IPython.core.display.Math object>"
            ]
          },
          "metadata": {
            "tags": []
          }
        },
        {
          "output_type": "display_data",
          "data": {
            "text/latex": "$$-{\\left(\\dfrac{1}{{x}^{2-1}\\cdot 2-1}\\right)}$$",
            "text/plain": [
              "<IPython.core.display.Math object>"
            ]
          },
          "metadata": {
            "tags": []
          }
        }
      ]
    },
    {
      "cell_type": "code",
      "metadata": {
        "id": "NIygaUQIT0ek",
        "colab": {
          "base_uri": "https://localhost:8080/",
          "height": 157
        },
        "outputId": "4b1da70e-bf60-406a-a754-1a86decc5c98"
      },
      "source": [
        "z = x**2*D(y, x) ==y\n",
        "print(z.f)\n",
        "#z.show()\n",
        "z.dsolve(y,x)\n"
      ],
      "execution_count": null,
      "outputs": [
        {
          "output_type": "stream",
          "text": [
            "['=', ['*', ['^', 'x', 2], ['D', 'y', 'x']], 'y']\n",
            "Разрешение производной\n"
          ],
          "name": "stdout"
        },
        {
          "output_type": "display_data",
          "data": {
            "text/latex": "$$\\dfrac{d{y}}{d{x}}=\\dfrac{y}{{x}^{2}}$$",
            "text/plain": [
              "<IPython.core.display.Math object>"
            ]
          },
          "metadata": {
            "tags": []
          }
        },
        {
          "output_type": "stream",
          "text": [
            "Разделение переменных\n"
          ],
          "name": "stdout"
        },
        {
          "output_type": "display_data",
          "data": {
            "text/latex": "$$\\dfrac{1}{y}\\cdot dy=\\dfrac{1}{{x}^{2}}\\cdot dx$$",
            "text/plain": [
              "<IPython.core.display.Math object>"
            ]
          },
          "metadata": {
            "tags": []
          }
        },
        {
          "output_type": "execute_result",
          "data": {
            "text/plain": [
              "<__main__.Expression at 0x7f3eb2da4710>"
            ]
          },
          "metadata": {
            "tags": []
          },
          "execution_count": 16
        }
      ]
    },
    {
      "cell_type": "code",
      "metadata": {
        "colab": {
          "base_uri": "https://localhost:8080/",
          "height": 172
        },
        "id": "PjIL-9rpxRG4",
        "outputId": "d92fd693-6a72-40d3-aacb-ac2c166b06f6"
      },
      "source": [
        "z=x**2*D(x,y)\n",
        "z.show()\n",
        "z.dsolve(x,y)"
      ],
      "execution_count": null,
      "outputs": [
        {
          "output_type": "display_data",
          "data": {
            "text/latex": "$${x}^{2}\\cdot \\dfrac{d{y}}{d{x}}$$",
            "text/plain": [
              "<IPython.core.display.Math object>"
            ]
          },
          "metadata": {
            "tags": []
          }
        },
        {
          "output_type": "stream",
          "text": [
            "Разрешение производной\n"
          ],
          "name": "stdout"
        },
        {
          "output_type": "display_data",
          "data": {
            "text/latex": "$$\\dfrac{d{y}}{d{x}}={x}^{2}$$",
            "text/plain": [
              "<IPython.core.display.Math object>"
            ]
          },
          "metadata": {
            "tags": []
          }
        },
        {
          "output_type": "stream",
          "text": [
            "Разделение переменных\n"
          ],
          "name": "stdout"
        },
        {
          "output_type": "display_data",
          "data": {
            "text/latex": "$$\\dfrac{1}{{x}^{2}}\\cdot dy=1.0\\cdot dx$$",
            "text/plain": [
              "<IPython.core.display.Math object>"
            ]
          },
          "metadata": {
            "tags": []
          }
        },
        {
          "output_type": "execute_result",
          "data": {
            "text/plain": [
              "<__main__.Expression at 0x7f3eb2cc11d0>"
            ]
          },
          "metadata": {
            "tags": []
          },
          "execution_count": 22
        }
      ]
    },
    {
      "cell_type": "code",
      "metadata": {
        "colab": {
          "base_uri": "https://localhost:8080/"
        },
        "id": "YMEf8eqDyMbq",
        "outputId": "c0044876-c9ef-4762-b374-36d6ff9e5a86"
      },
      "source": [
        ""
      ],
      "execution_count": null,
      "outputs": [
        {
          "output_type": "execute_result",
          "data": {
            "text/plain": [
              "['=', ['/', ['D', 'x'], ['x']], 'x']"
            ]
          },
          "metadata": {
            "tags": []
          },
          "execution_count": 25
        }
      ]
    }
  ]
}