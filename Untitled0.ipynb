{
  "nbformat": 4,
  "nbformat_minor": 0,
  "metadata": {
    "colab": {
      "name": "Untitled0.ipynb",
      "provenance": [],
      "collapsed_sections": [],
      "include_colab_link": true
    },
    "kernelspec": {
      "name": "python3",
      "display_name": "Python 3"
    }
  },
  "cells": [
    {
      "cell_type": "markdown",
      "metadata": {
        "id": "view-in-github",
        "colab_type": "text"
      },
      "source": [
        "<a href=\"https://colab.research.google.com/github/LiFeLeSS5858/KA1/blob/main/Untitled0.ipynb\" target=\"_parent\"><img src=\"https://colab.research.google.com/assets/colab-badge.svg\" alt=\"Open In Colab\"/></a>"
      ]
    },
    {
      "cell_type": "code",
      "metadata": {
        "colab": {
          "base_uri": "https://localhost:8080/"
        },
        "id": "XXLkIUQi1aIW",
        "outputId": "e36195ba-1182-420f-f60d-e01935aa9c32"
      },
      "source": [
        "import math\r\n",
        "def check(x):\r\n",
        "    if isinstance(x, int):\r\n",
        "        return x, 1\r\n",
        "    return x.a, x.b\r\n",
        "\r\n",
        "class Rational:\r\n",
        "    def __init__(self, a, b = 1):\r\n",
        "        self.a = a\r\n",
        "        self.b = b\r\n",
        "    def __str__(self):\r\n",
        "        return str(self.a) + \"/\" + str(self.b)\r\n",
        "    def __add__(self, x):\r\n",
        "        c, d = check(x)\r\n",
        "        return Rational(self.a * d + self.b * c, self.b * d)\r\n",
        "    def __truediv__(self, x):\r\n",
        "        c, d = check(x)\r\n",
        "        return Rational(self.a * d, self.b * c)\r\n",
        "    def __mul__(self, x):\r\n",
        "        c, d = check(x)\r\n",
        "        return Rational(self.a * c, self.b * d)\r\n",
        "    def __eq__(self, x):\r\n",
        "        c, d = check(x)\r\n",
        "        return self.a * d == self.b * c\r\n",
        "    def normalize(self):\r\n",
        "        if self.b<0:\r\n",
        "            if self.a>0:\r\n",
        "                self.b= abs(self.b)\r\n",
        "                self.a= -1*(abs(self.a))\r\n",
        "            else:\r\n",
        "                self.a= abs(self.a)\r\n",
        "                self.b = abs(self.b)\r\n",
        "        return Rational(self.a,self.b)\r\n",
        "x = (Rational(81) / 19 + 94) * 19\r\n",
        "y=Rational(-1,-1)\r\n",
        "print (x,x==1867)\r\n",
        "print (y)\r\n",
        "print (Rational.normalize(y))"
      ],
      "execution_count": 1,
      "outputs": [
        {
          "output_type": "stream",
          "text": [
            "35473/19 True\n",
            "-1/-1\n",
            "1/1\n"
          ],
          "name": "stdout"
        }
      ]
    }
  ]
}